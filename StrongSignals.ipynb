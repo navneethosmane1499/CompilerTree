{
  "nbformat": 4,
  "nbformat_minor": 0,
  "metadata": {
    "colab": {
      "name": "StrongSignals.ipynb",
      "provenance": [],
      "collapsed_sections": []
    },
    "kernelspec": {
      "name": "python3",
      "display_name": "Python 3"
    }
  },
  "cells": [
    {
      "cell_type": "code",
      "metadata": {
        "id": "3Ur7JdIDsMJh"
      },
      "source": [
        "class Connect:\n",
        "  def __init__(self):\n",
        "    self.strong_signals = []\n",
        "\n",
        "  def countOnes(self, matrix):\n",
        "    count = 0\n",
        "    visited = [[False for j in range(len(matrix[0]))] for i in range(len(matrix))]\n",
        "    stack = []\n",
        "    for i in range(len(matrix)):\n",
        "      for j in range(len(matrix[0])):\n",
        "        if (not visited[i][j] and matrix[i][j]==1):\n",
        "          stack.append(str(i)+','+str(j))\n",
        "          self.DFS(stack, matrix, visited)\n",
        "          count += 1\n",
        "    return count\n",
        "\n",
        "  def DFS(self, stack, matrix, visited):\n",
        "    \n",
        "    while len(stack)!= 0:\n",
        "      x = stack.pop()\n",
        "      \n",
        "      i, j = int(x.split(',')[0]), int(x.split(',')[1])\n",
        "      if (i < 0 or j < 0 or i >= len(matrix) or j >= len(matrix[0]) or visited[i][j] or matrix[i][j] == 0):\n",
        "        continue\n",
        "\n",
        "      visited[i][j] = True\n",
        "      stack.append(str(i-1)+','+str(j-1))\n",
        "      stack.append(str(i-1)+','+str(j+1))\n",
        "      stack.append(str(i+1)+','+str(j-1))\n",
        "      stack.append(str(i+1)+','+str(j+1))\n",
        "      stack.append(str(i)+','+str(j-1))\n",
        "      stack.append(str(i)+','+str(j+1))\n",
        "      stack.append(str(i-1)+','+str(j))\n",
        "      stack.append(str(i+1)+','+str(j))\n",
        "      self.strong_signals.append((i, j))"
      ],
      "execution_count": null,
      "outputs": []
    },
    {
      "cell_type": "code",
      "metadata": {
        "colab": {
          "base_uri": "https://localhost:8080/"
        },
        "id": "N2ZFHTLL4HQb",
        "outputId": "f29cdd03-4bf1-433a-fc53-1605b25a2cae"
      },
      "source": [
        "from random import randint\n",
        "import numpy as np\n",
        "matrix = []\n",
        "for i in range(5):\n",
        "  a = []\n",
        "  for j in range(5):\n",
        "    a.append(randint(0, 1))\n",
        "  matrix.append(a)\n",
        "matrix = np.array(matrix) #the matrix where each element represents strong or weak points\n",
        "print(matrix)\n",
        "# matrix = [[1, 1, 0, 0, 0], \n",
        "#         [1, 1, 0, 0, 0], \n",
        "#         [0, 0, 1, 0, 0], \n",
        "#         [0, 0, 0, 1, 1]] \n",
        "g = Connect()\n",
        "count = g.countOnes(matrix)\n",
        "print(count)\n",
        "print(g.strong_signals)"
      ],
      "execution_count": null,
      "outputs": [
        {
          "output_type": "stream",
          "text": [
            "[[0 0 0 0 1]\n",
            " [1 0 0 0 1]\n",
            " [0 1 1 0 0]\n",
            " [0 0 1 0 0]\n",
            " [1 0 0 0 1]]\n",
            "4\n",
            "[(0, 4), (1, 4), (1, 0), (2, 1), (2, 2), (3, 2), (4, 0), (4, 4)]\n"
          ],
          "name": "stdout"
        }
      ]
    }
  ]
}