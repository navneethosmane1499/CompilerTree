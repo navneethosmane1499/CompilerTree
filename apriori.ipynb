{
 "metadata": {
  "language_info": {
   "codemirror_mode": {
    "name": "ipython",
    "version": 3
   },
   "file_extension": ".py",
   "mimetype": "text/x-python",
   "name": "python",
   "nbconvert_exporter": "python",
   "pygments_lexer": "ipython3",
   "version": "3.8.5-final"
  },
  "orig_nbformat": 2,
  "kernelspec": {
   "name": "python38564bitmyenvvenva459a31dc5904f309bd16de85efdbc75",
   "display_name": "Python 3.8.5 64-bit ('myenv': venv)",
   "language": "python"
  }
 },
 "nbformat": 4,
 "nbformat_minor": 2,
 "cells": [
  {
   "cell_type": "code",
   "execution_count": 60,
   "metadata": {},
   "outputs": [],
   "source": [
    "#returns the dataset\n",
    "def loadDataSet():\n",
    "    return [['A', 'B'], ['B', 'D'], ['B', 'C'], ['A', 'B', 'D'], ['A', 'C'], ['B', 'C'], ['A', 'C'], ['A', 'B', 'C', 'E'], ['A', 'B', 'C']]\n",
    "    # return [[1, 3, 4], [2, 3, 5], [1, 2, 3, 5], [2, 5]]"
   ]
  },
  {
   "cell_type": "code",
   "execution_count": 61,
   "metadata": {},
   "outputs": [],
   "source": [
    "#C1 is the first phase where we find all unique items in the given dataset\n",
    "def createC1(dataSet):\n",
    "    C1 = []\n",
    "    for transaction in dataSet:\n",
    "        for item in transaction:\n",
    "            if not [item] in C1:\n",
    "                C1.append([item])\n",
    "                \n",
    "    C1.sort()\n",
    "    return list(map(frozenset, C1))#use frozen set so we can use it as a key in a dict "
   ]
  },
  {
   "cell_type": "code",
   "execution_count": 62,
   "metadata": {},
   "outputs": [],
   "source": [
    "#scans the dataset and finds the support for each unique item in the given dataset\n",
    "#D - dataset, Ck -  a list of candidate sets, minSupport-\n",
    "def scanD(D, Ck, minSupport):\n",
    "    ssCnt = {}\n",
    "    for tid in D:\n",
    "        for can in Ck:\n",
    "            if can.issubset(tid):\n",
    "                if not can in ssCnt: ssCnt[can]=1\n",
    "                else: ssCnt[can] += 1\n",
    "    numItems = float(len(D))\n",
    "    retList = []\n",
    "    supportData = {}\n",
    "    for key in ssCnt:\n",
    "        support = ssCnt[key]\n",
    "        if support >= minSupport:\n",
    "            retList.insert(0,key)\n",
    "        supportData[key] = support\n",
    "    #retList contains all items in dataset that have a support greater than minSupport\n",
    "    return retList, supportData"
   ]
  },
  {
   "cell_type": "code",
   "execution_count": 63,
   "metadata": {},
   "outputs": [
    {
     "output_type": "execute_result",
     "data": {
      "text/plain": [
       "[['A', 'B'],\n",
       " ['B', 'D'],\n",
       " ['B', 'C'],\n",
       " ['A', 'B', 'D'],\n",
       " ['A', 'C'],\n",
       " ['B', 'C'],\n",
       " ['A', 'C'],\n",
       " ['A', 'B', 'C', 'E'],\n",
       " ['A', 'B', 'C']]"
      ]
     },
     "metadata": {},
     "execution_count": 63
    }
   ],
   "source": [
    "#loads the dataset\n",
    "dataSet = loadDataSet() \n",
    "dataSet"
   ]
  },
  {
   "cell_type": "code",
   "execution_count": 64,
   "metadata": {},
   "outputs": [
    {
     "output_type": "execute_result",
     "data": {
      "text/plain": [
       "[frozenset({'A'}),\n",
       " frozenset({'B'}),\n",
       " frozenset({'C'}),\n",
       " frozenset({'D'}),\n",
       " frozenset({'E'})]"
      ]
     },
     "metadata": {},
     "execution_count": 64
    }
   ],
   "source": [
    "#creates unique list of elements from dataset\n",
    "C1 = createC1(dataSet)\n",
    "C1"
   ]
  },
  {
   "cell_type": "code",
   "execution_count": 65,
   "metadata": {},
   "outputs": [
    {
     "output_type": "execute_result",
     "data": {
      "text/plain": [
       "[{'A', 'B'},\n",
       " {'B', 'D'},\n",
       " {'B', 'C'},\n",
       " {'A', 'B', 'D'},\n",
       " {'A', 'C'},\n",
       " {'B', 'C'},\n",
       " {'A', 'C'},\n",
       " {'A', 'B', 'C', 'E'},\n",
       " {'A', 'B', 'C'}]"
      ]
     },
     "metadata": {},
     "execution_count": 65
    }
   ],
   "source": [
    "#D is a dataset in the setform.\n",
    "D = list(map(set,dataSet))\n",
    "D"
   ]
  },
  {
   "cell_type": "code",
   "execution_count": 66,
   "metadata": {},
   "outputs": [
    {
     "output_type": "execute_result",
     "data": {
      "text/plain": [
       "[frozenset({'C'}), frozenset({'D'}), frozenset({'B'}), frozenset({'A'})]"
      ]
     },
     "metadata": {},
     "execution_count": 66
    }
   ],
   "source": [
    "#L1 - list of items that have a support greater than minSupport\n",
    "#suppData - contains unique items and their support values\n",
    "L1,suppData = scanD(D,C1,2)\n",
    "L1"
   ]
  },
  {
   "cell_type": "code",
   "execution_count": 67,
   "metadata": {},
   "outputs": [],
   "source": [
    "def aprioriGen(Lk, k): #creates Ck\n",
    "    retList = []\n",
    "    lenLk = len(Lk)\n",
    "    for i in range(lenLk):\n",
    "        for j in range(i+1, lenLk): \n",
    "            L1 = list(Lk[i])[:k-2]; L2 = list(Lk[j])[:k-2]\n",
    "            L1.sort(); L2.sort()\n",
    "            if L1==L2: #if first k-2 elements are equal\n",
    "                retList.append(Lk[i] | Lk[j]) #set union\n",
    "    return retList"
   ]
  },
  {
   "cell_type": "code",
   "execution_count": 70,
   "metadata": {},
   "outputs": [],
   "source": [
    "def apriori(dataSet, minSupport = 2):\n",
    "    C1 = createC1(dataSet)\n",
    "    D = list(map(set, dataSet))\n",
    "    L1, supportData = scanD(D, C1, minSupport)\n",
    "    L = [L1]\n",
    "    k = 2\n",
    "    while (len(L[k-2]) > 0):\n",
    "        Ck = aprioriGen(L[k-2], k)\n",
    "        Lk, supK = scanD(D, Ck, minSupport)#scan DB to get Lk\n",
    "        supportData.update(supK)\n",
    "        L.append(Lk)\n",
    "        k += 1\n",
    "    return L, supportData"
   ]
  },
  {
   "cell_type": "code",
   "execution_count": 71,
   "metadata": {},
   "outputs": [
    {
     "output_type": "execute_result",
     "data": {
      "text/plain": [
       "[[frozenset({'C'}), frozenset({'D'}), frozenset({'B'}), frozenset({'A'})],\n",
       " [frozenset({'A', 'C'}),\n",
       "  frozenset({'B', 'C'}),\n",
       "  frozenset({'B', 'D'}),\n",
       "  frozenset({'A', 'B'})],\n",
       " [frozenset({'A', 'B', 'C'})],\n",
       " []]"
      ]
     },
     "metadata": {},
     "execution_count": 71
    }
   ],
   "source": [
    "L,suppData = apriori(dataSet, 2)\n",
    "L #list of items which has support greater than minSupport"
   ]
  },
  {
   "cell_type": "code",
   "execution_count": 76,
   "metadata": {},
   "outputs": [],
   "source": [
    "def generateRules(L, supportData, minConf=0.5):  #supportData is a dict coming from scanD\n",
    "    bigRuleList = []\n",
    "    for i in range(2, len(L)):#only get the sets with two or more items\n",
    "        for freqSet in L[i]:\n",
    "            H1 = [frozenset([item]) for item in freqSet]\n",
    "            calcConf(freqSet, H1, supportData, bigRuleList, minConf)\n",
    "    return bigRuleList "
   ]
  },
  {
   "cell_type": "code",
   "execution_count": 77,
   "metadata": {},
   "outputs": [],
   "source": [
    "def calcConf(freqSet, H, supportData, brl, minConf=0.5):\n",
    "    tempH = [] #create new list to return\n",
    "    for conseq in H:\n",
    "        conf = supportData[freqSet]/supportData[freqSet-conseq] #calc confidence\n",
    "        if conf >= minConf: \n",
    "            print (freqSet-conseq,'-->',conseq,'conf:',conf)\n",
    "            brl.append((freqSet-conseq, conseq, conf))\n",
    "            tempH.append(conseq)\n",
    "    return tempH"
   ]
  },
  {
   "cell_type": "code",
   "execution_count": 78,
   "metadata": {},
   "outputs": [
    {
     "output_type": "stream",
     "name": "stdout",
     "text": [
      "frozenset({'B', 'C'}) --> frozenset({'A'}) conf: 0.5\nfrozenset({'A', 'C'}) --> frozenset({'B'}) conf: 0.5\nfrozenset({'A', 'B'}) --> frozenset({'C'}) conf: 0.5\n"
     ]
    }
   ],
   "source": [
    "rules= generateRules(L,suppData, minConf=0.5)\n",
    "#all associative rules which have confidence greater than 50%"
   ]
  }
 ]
}